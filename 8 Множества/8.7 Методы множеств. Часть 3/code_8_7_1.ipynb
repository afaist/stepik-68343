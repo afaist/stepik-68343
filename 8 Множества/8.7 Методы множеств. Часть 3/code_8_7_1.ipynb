{
 "cells": [
  {
   "cell_type": "code",
   "execution_count": 1,
   "id": "1dedaa55-1a96-4682-a5c5-6e2924f13903",
   "metadata": {},
   "outputs": [],
   "source": [
    "# Множества (set)"
   ]
  },
  {
   "cell_type": "markdown",
   "id": "0ca847bc-5b8a-463b-b84b-bdb421ea2224",
   "metadata": {},
   "source": [
    "## Методы множеств"
   ]
  },
  {
   "cell_type": "markdown",
   "id": "4dc4a66b-84e4-4a95-9360-9904c8e22a57",
   "metadata": {},
   "source": [
    "### Добавление элементов"
   ]
  },
  {
   "cell_type": "markdown",
   "id": "175804bc-c338-4c57-9f73-039ec5a457ca",
   "metadata": {},
   "source": [
    "#### Метод add()\n",
    "\n",
    "Для добавления нового элемента в множество используется метод add().\n",
    "\n",
    "Следующий программный код:"
   ]
  },
  {
   "cell_type": "code",
   "execution_count": 2,
   "id": "d152c1dd-2c52-44bf-bb35-c399a732c881",
   "metadata": {},
   "outputs": [
    {
     "name": "stdout",
     "output_type": "stream",
     "text": [
      "{1, 2, 3, 34, 5, 21, 8}\n"
     ]
    }
   ],
   "source": [
    "numbers = {1, 1, 2, 3, 5, 8, 3}  # создаем множество\n",
    "numbers.add(21)  # добавляем число 21 в множество\n",
    "numbers.add(34)  # добавляем число 34 в множество\n",
    "print(numbers)"
   ]
  },
  {
   "cell_type": "markdown",
   "id": "2214457b-2b88-4225-a832-d748dc97d84c",
   "metadata": {},
   "source": [
    "Не забывайте, что порядок элементов при выводе множества абсолютно произвольный.\n",
    "\n",
    "Обратите внимание, для использования метода add() требуется предварительно созданное множество, при этом оно может быть пустым."
   ]
  },
  {
   "cell_type": "code",
   "execution_count": 3,
   "id": "85e3a41b-7421-4a4c-91c1-ec4fd5193262",
   "metadata": {},
   "outputs": [
    {
     "name": "stdout",
     "output_type": "stream",
     "text": [
      "{1, 2, 3}\n"
     ]
    }
   ],
   "source": [
    "numbers = set()  # создаем пустое множество\n",
    "numbers.add(1)\n",
    "numbers.add(2)\n",
    "numbers.add(3)\n",
    "numbers.add(1)\n",
    "print(numbers)"
   ]
  },
  {
   "cell_type": "markdown",
   "id": "0b99898c-1a6c-4478-bbc3-0ee0a34f60fe",
   "metadata": {},
   "source": [
    "Если требуется внести несколько значений в множество, то можно воспользоваться циклом for."
   ]
  },
  {
   "cell_type": "code",
   "execution_count": 4,
   "id": "b18cb0c7-a194-4e51-b3c1-7d7917840f6a",
   "metadata": {},
   "outputs": [
    {
     "name": "stdout",
     "output_type": "stream",
     "text": [
      "{1, 2, 65, 5, 37, 10, 17, 50, 82, 26}\n"
     ]
    }
   ],
   "source": [
    "numbers = set()  # создаем пустое множество\n",
    "for i in range(10):\n",
    "    numbers.add(i * i + 1)\n",
    "print(numbers)"
   ]
  },
  {
   "cell_type": "markdown",
   "id": "df41fa20-099a-4377-aa95-fab03ecd0bfe",
   "metadata": {},
   "source": [
    "### Удаление элемента\n",
    "\n",
    "Для удаления элементов из множества используются методы:\n",
    "\n",
    "        remove();\n",
    "        discard();\n",
    "        pop()."
   ]
  },
  {
   "cell_type": "markdown",
   "id": "cdfb5a8b-af68-4bf0-bf97-ab91aceaef34",
   "metadata": {},
   "source": [
    "#### Метод remove()\n",
    "\n",
    "Метод remove() удаляет элемент из множества с генерацией исключения (ошибки) в случае, если такого элемента нет."
   ]
  },
  {
   "cell_type": "code",
   "execution_count": 5,
   "id": "e931d7f8-d0bd-4829-be87-7320f3dd45cd",
   "metadata": {},
   "outputs": [
    {
     "name": "stdout",
     "output_type": "stream",
     "text": [
      "{1, 2, 4, 5}\n"
     ]
    }
   ],
   "source": [
    "numbers = {1, 2, 3, 4, 5}\n",
    "\n",
    "numbers.remove(3)\n",
    "print(numbers)"
   ]
  },
  {
   "cell_type": "code",
   "execution_count": 6,
   "id": "2d052fdc-a636-4977-b523-e3e9426524d5",
   "metadata": {},
   "outputs": [
    {
     "ename": "KeyError",
     "evalue": "10",
     "output_type": "error",
     "traceback": [
      "\u001b[0;31m---------------------------------------------------------------------------\u001b[0m",
      "\u001b[0;31mKeyError\u001b[0m                                  Traceback (most recent call last)",
      "Cell \u001b[0;32mIn[6], line 3\u001b[0m\n\u001b[1;32m      1\u001b[0m numbers \u001b[38;5;241m=\u001b[39m {\u001b[38;5;241m1\u001b[39m, \u001b[38;5;241m2\u001b[39m, \u001b[38;5;241m3\u001b[39m, \u001b[38;5;241m4\u001b[39m, \u001b[38;5;241m5\u001b[39m}\n\u001b[0;32m----> 3\u001b[0m \u001b[43mnumbers\u001b[49m\u001b[38;5;241;43m.\u001b[39;49m\u001b[43mremove\u001b[49m\u001b[43m(\u001b[49m\u001b[38;5;241;43m10\u001b[39;49m\u001b[43m)\u001b[49m\n\u001b[1;32m      4\u001b[0m \u001b[38;5;28mprint\u001b[39m(numbers)\n",
      "\u001b[0;31mKeyError\u001b[0m: 10"
     ]
    }
   ],
   "source": [
    "numbers = {1, 2, 3, 4, 5}\n",
    "\n",
    "numbers.remove(10)\n",
    "print(numbers)"
   ]
  },
  {
   "cell_type": "code",
   "execution_count": null,
   "id": "be11f3d9-f193-451d-ba50-1c37a79616f1",
   "metadata": {},
   "outputs": [],
   "source": [
    "приводит к возникновению ошибки KeyError, так как элемент 1010 отсутствует в множестве."
   ]
  },
  {
   "cell_type": "markdown",
   "id": "14f22d1d-9c58-4dcd-bf07-01486a757326",
   "metadata": {},
   "source": [
    "#### Метод discard()\n",
    "\n",
    "Метод discard() удаляет элемент из множества без генерации исключения (ошибки), если элемент отсутствует."
   ]
  },
  {
   "cell_type": "code",
   "execution_count": 7,
   "id": "25ebeaee-5370-4960-b821-c8a735c52faf",
   "metadata": {},
   "outputs": [
    {
     "name": "stdout",
     "output_type": "stream",
     "text": [
      "{1, 2, 4, 5}\n"
     ]
    }
   ],
   "source": [
    "numbers = {1, 2, 3, 4, 5}\n",
    "\n",
    "numbers.discard(3)\n",
    "print(numbers)"
   ]
  },
  {
   "cell_type": "code",
   "execution_count": 8,
   "id": "c7cce72e-ad18-4f78-8683-ecec389212b6",
   "metadata": {},
   "outputs": [
    {
     "name": "stdout",
     "output_type": "stream",
     "text": [
      "{1, 2, 3, 4, 5}\n"
     ]
    }
   ],
   "source": [
    "numbers = {1, 2, 3, 4, 5}\n",
    "\n",
    "numbers.discard(10)\n",
    "print(numbers)"
   ]
  },
  {
   "cell_type": "markdown",
   "id": "4dbb0de0-df1c-4054-a3b0-7502e425b839",
   "metadata": {},
   "source": [
    "не приводит к возникновению ошибки и выводит (порядок элементов может отличаться):"
   ]
  },
  {
   "cell_type": "markdown",
   "id": "de8465fa-a853-4cb4-9693-77bc8f07b220",
   "metadata": {},
   "source": [
    "#### Метод pop()\n",
    "\n",
    "Метод pop() удаляет и возвращает случайный элемент из множества с генерацией исключения (ошибки) при попытке удаления из пустого множества."
   ]
  },
  {
   "cell_type": "code",
   "execution_count": 9,
   "id": "c7289e3a-c174-4b42-b562-10f52b32dce1",
   "metadata": {},
   "outputs": [
    {
     "name": "stdout",
     "output_type": "stream",
     "text": [
      "до удаления: {1, 2, 3, 4, 5}\n",
      "удалённый элемент: 1\n",
      "после удаления: {2, 3, 4, 5}\n"
     ]
    }
   ],
   "source": [
    "numbers = {1, 2, 3, 4, 5}\n",
    "print(\"до удаления:\", numbers)\n",
    "num = numbers.pop()  # удаляет случайный элемент множества, возвращая его\n",
    "print(\"удалённый элемент:\", num)\n",
    "print(\"после удаления:\", numbers)"
   ]
  },
  {
   "cell_type": "markdown",
   "id": "4d9d34c3-7d80-4d8a-8a69-355b71e3bf5c",
   "metadata": {},
   "source": [
    "Результат работы такого кода случаен, например, такой код может вывести:\n",
    "\n",
    "   Метод pop() можно воспринимать как неконтролируемый способ удаления элементов по одному из множества."
   ]
  },
  {
   "cell_type": "markdown",
   "id": "6381e6ee-00f5-427f-8e11-e9527a63fb07",
   "metadata": {},
   "source": [
    "#### Метод clear()\n",
    "\n",
    "Метод clear() удаляет все элементы из множества."
   ]
  },
  {
   "cell_type": "code",
   "execution_count": null,
   "id": "138622cb-2310-48bf-ac7d-6b127b695984",
   "metadata": {},
   "outputs": [],
   "source": [
    "numbers = {1, 2, 3, 4, 5}\n",
    "numbers.clear()\n",
    "print(numbers)"
   ]
  },
  {
   "cell_type": "markdown",
   "id": "c612bcb3-51bf-4efb-a1e3-1693e3a7dfbe",
   "metadata": {},
   "source": [
    "В результате получили пустое множество.\n",
    "\n",
    "Обратите внимание на то, что пустое множество выводится как set(), а не как {}. С помощью {} выводится пустой словарь."
   ]
  },
  {
   "cell_type": "markdown",
   "id": "9592dbaa-c81f-411b-8a0f-129aa2d3a896",
   "metadata": {},
   "source": [
    "Примечания\n",
    "\n",
    "Примечание 1. Если мы не изменяли множество, порядок обхода элементов в цикле for не изменится.\n",
    "\n",
    "Примечание 2. После изменения множества (методы add(), remove(), и т.д.) порядок элементов может измениться произвольным образом."
   ]
  },
  {
   "cell_type": "markdown",
   "id": "6a2d998f-5361-48dd-9b4b-17b4f8f207df",
   "metadata": {},
   "source": [
    "## Операции над множествами\n",
    "\n",
    "Основные операции над множествами:\n",
    "\n",
    "    объединение множеств;\n",
    "    пересечение множеств;\n",
    "    разность множеств;\n",
    "    симметрическая разность множеств.\n",
    "\n",
    "Для каждой операции есть метод и оператор."
   ]
  },
  {
   "cell_type": "markdown",
   "id": "03dad361-a0a7-498d-a9bf-644ebc43f2a6",
   "metadata": {},
   "source": [
    "### Объединение множеств: метод union()\n",
    "Объединение множеств – это множество, состоящее из элементов, принадлежащих хотя бы одному из объединяемых множеств. Для этой операции существует метод `union()`."
   ]
  },
  {
   "cell_type": "code",
   "execution_count": null,
   "id": "745cfc01-bfd5-470b-a83d-cf02dde86f3b",
   "metadata": {},
   "outputs": [],
   "source": [
    "myset1 = {1, 2, 3, 4, 5}\n",
    "myset2 = {3, 4, 6, 7, 8}\n",
    "\n",
    "myset3 = myset1.union(myset2)\n",
    "print(myset3)"
   ]
  },
  {
   "cell_type": "markdown",
   "id": "c4e46839-7e2e-4f35-9e12-d2a784ae5b2d",
   "metadata": {},
   "source": [
    ">Обратите внимание, метод union() возвращает новое множество в которое входят все элементы множеств myset1 и myset2. Для изменения текущего множества используется метод update().\n",
    "\n",
    "Для объединения двух множеств можно также использовать оператор `|`."
   ]
  },
  {
   "cell_type": "code",
   "execution_count": null,
   "id": "3e0d4a46-acbf-484b-ad86-cdc509984131",
   "metadata": {},
   "outputs": [],
   "source": [
    "myset1 = {1, 2, 3, 4, 5}\n",
    "myset2 = {3, 4, 6, 7, 8}\n",
    "\n",
    "myset3 = myset1 | myset2\n",
    "print(myset3)"
   ]
  },
  {
   "cell_type": "markdown",
   "id": "eecbf9b7-13e8-45fe-848c-e25e6d882af7",
   "metadata": {},
   "source": [
    "### Пересечение множеств: метод intersection()\n",
    "\n",
    "Пересечение множеств – это множество, состоящее из элементов, принадлежащих одновременно каждому из пересекающихся множеств. Для этой операции существует метод intersection()."
   ]
  },
  {
   "cell_type": "code",
   "execution_count": null,
   "id": "a2ce11b8-c17a-484b-8048-d3028dc21fe1",
   "metadata": {},
   "outputs": [],
   "source": [
    "myset1 = {1, 2, 3, 4, 5}\n",
    "myset2 = {3, 4, 6, 7, 8}\n",
    "\n",
    "myset3 = myset1.intersection(myset2)\n",
    "print(myset3)"
   ]
  },
  {
   "cell_type": "markdown",
   "id": "452a6f5a-5ef7-4894-b347-bcbe689fc5a4",
   "metadata": {},
   "source": [
    ">Обратите внимание, метод intersection() возвращает новое множество в которое входят общие элементы множеств myset1 и myset2. Для изменения текущего множества используется метод intersection_update().\n",
    "\n",
    "Для пересечения двух множеств можно также использовать оператор &."
   ]
  },
  {
   "cell_type": "code",
   "execution_count": null,
   "id": "5d7aaac2-663f-4f6d-9509-6d886fb2ceb8",
   "metadata": {},
   "outputs": [],
   "source": [
    "myset1 = {1, 2, 3, 4, 5}\n",
    "myset2 = {3, 4, 6, 7, 8}\n",
    "\n",
    "myset3 = myset1 & myset2\n",
    "print(myset3)"
   ]
  },
  {
   "cell_type": "markdown",
   "id": "5d9de6fc-34ff-462d-8c92-e43f2669960d",
   "metadata": {},
   "source": [
    "### Разность множеств: метод difference()\n",
    "\n",
    "Разность множеств – это множество, в которое входят все элементы первого множества, не входящие во второе множество. Для этой операции существует метод difference()."
   ]
  },
  {
   "cell_type": "code",
   "execution_count": null,
   "id": "438900f1-cda3-4998-bbbe-6babfd0c260f",
   "metadata": {},
   "outputs": [],
   "source": [
    "myset1 = {1, 2, 3, 4, 5}\n",
    "myset2 = {3, 4, 6, 7, 8}\n",
    "\n",
    "myset3 = myset1.difference(myset2)\n",
    "print(myset3)"
   ]
  },
  {
   "cell_type": "markdown",
   "id": "56f20524-2323-4bf7-ae8a-97b718c20d2d",
   "metadata": {},
   "source": [
    "Для разности двух множеств можно также использовать оператор -."
   ]
  },
  {
   "cell_type": "markdown",
   "id": "b719eb84-5898-4086-a15e-ef4b43262bd9",
   "metadata": {},
   "source": [
    "myset1 = {1, 2, 3, 4, 5}\n",
    "myset2 = {3, 4, 6, 7, 8}\n",
    "\n",
    "myset3 = myset1 - myset2\n",
    "print(myset3)"
   ]
  },
  {
   "cell_type": "markdown",
   "id": "550e6170-5ad3-408a-89fb-e7fc286d4a2f",
   "metadata": {},
   "source": [
    ">Обратите внимание: для операции разности множеств важен порядок, в котором указаны множества. Если поменять местами myset1 и myset2, нас ожидает совсем другой результат: элементы, входящие в множество myset2 и которых нет в множестве myset1. "
   ]
  },
  {
   "cell_type": "code",
   "execution_count": null,
   "id": "65ac34ed-7ead-4373-ad84-b7849011d12c",
   "metadata": {},
   "outputs": [],
   "source": [
    "myset1 = {1, 2, 3, 4, 5}\n",
    "myset2 = {3, 4, 6, 7, 8}\n",
    "print(myset1.difference(myset2))\n",
    "myset3 = myset2.difference(myset1)\n",
    "print(myset3)"
   ]
  },
  {
   "cell_type": "markdown",
   "id": "d9fc3d3b-78a5-4dfe-803a-dfc79259294c",
   "metadata": {},
   "source": [
    "### Симметрическая разность: метод symmetric_difference()\n",
    "\n",
    "Симметрическая разность множеств – это множество, включающее все элементы исходных множеств, не принадлежащие одновременно обоим исходным множествам. Для этой операции существует метод symmetric_difference()."
   ]
  },
  {
   "cell_type": "code",
   "execution_count": null,
   "id": "b4d98ff3-da95-45c8-b3e2-56709d2dedb1",
   "metadata": {},
   "outputs": [],
   "source": [
    "myset1 = {1, 2, 3, 4, 5}\n",
    "myset2 = {3, 4, 6, 7, 8}\n",
    "\n",
    "myset3 = myset1.symmetric_difference(myset2)\n",
    "print(myset3)"
   ]
  },
  {
   "cell_type": "markdown",
   "id": "01821dc3-8e0f-44a4-ab2c-5fe96faf2e0b",
   "metadata": {},
   "source": [
    "Для симметрической разности двух множеств можно также использовать оператор ^."
   ]
  },
  {
   "cell_type": "code",
   "execution_count": null,
   "id": "76f635d3-56ed-4eb5-8e88-76a71037398d",
   "metadata": {},
   "outputs": [],
   "source": [
    "myset1 = {1, 2, 3, 4, 5}\n",
    "myset2 = {3, 4, 6, 7, 8}\n",
    "\n",
    "myset3 = myset1 ^ myset2\n",
    "print(myset3)"
   ]
  },
  {
   "cell_type": "markdown",
   "id": "8cc4b0f5-19d3-410a-8ef6-de1624f50321",
   "metadata": {},
   "source": [
    ">Обратите внимание: для операции симметрической разности порядок множеств неважен, на то она и симметрическая: `myset1 ^ myset2 == myset2 ^ myset1`."
   ]
  },
  {
   "cell_type": "markdown",
   "id": "3b420d1c-7066-4c99-968b-afee8d559247",
   "metadata": {},
   "source": [
    "## Методы множеств, изменяющие текущие множества"
   ]
  },
  {
   "cell_type": "markdown",
   "id": "6b1d3501-5098-40f3-b1af-bca7219b22bc",
   "metadata": {},
   "source": [
    "Методы `union(), intersection(), difference(), symmetric_difference()` не изменяют исходные множества, а возвращают новые. Часто на практике нужно изменять исходные множества. Для таких целей используются парные методы `update(), intersection_update(), difference_update(), symmetric_difference_update()`."
   ]
  },
  {
   "cell_type": "markdown",
   "id": "27b377fa-baab-49ce-ac7e-910ff51fa72a",
   "metadata": {},
   "source": [
    "#### Метод update()\n",
    "\n",
    "Метод update() изменяет исходное множество по объединению."
   ]
  },
  {
   "cell_type": "code",
   "execution_count": null,
   "id": "a8cb621c-2394-40ff-8166-42471729e9d7",
   "metadata": {},
   "outputs": [],
   "source": [
    "myset1 = {1, 2, 3, 4, 5}\n",
    "myset2 = {3, 4, 6, 7, 8}\n",
    "\n",
    "myset1.update(myset2)  # изменяем множество myset1\n",
    "print(myset1)"
   ]
  },
  {
   "cell_type": "markdown",
   "id": "8f4aba42-7584-4d08-8c47-f3303e0af980",
   "metadata": {},
   "source": [
    "Аналогичный результат получается, если использовать оператор |=:"
   ]
  },
  {
   "cell_type": "code",
   "execution_count": null,
   "id": "a65c25c9-f0b7-4018-b874-152157c5fc45",
   "metadata": {},
   "outputs": [],
   "source": [
    "myset1 = {1, 2, 3, 4, 5}\n",
    "myset2 = {3, 4, 6, 7, 8}\n",
    "\n",
    "myset1 |= myset2\n",
    "print(myset1)"
   ]
  },
  {
   "cell_type": "markdown",
   "id": "ee62c6e9-8754-4ff1-8a46-b0150c8b7ba3",
   "metadata": {},
   "source": [
    "#### Метод intersection_update()\n",
    "\n",
    "Метод intersection_update() изменяет исходное множество по пересечению."
   ]
  },
  {
   "cell_type": "code",
   "execution_count": null,
   "id": "d842e447-dbdd-4dde-8037-c448e6395c45",
   "metadata": {},
   "outputs": [],
   "source": [
    "myset1 = {1, 2, 3, 4, 5}\n",
    "myset2 = {3, 4, 6, 7, 8}\n",
    "\n",
    "myset1.intersection_update(myset2)  # изменяем множество myset1\n",
    "print(myset1)"
   ]
  },
  {
   "cell_type": "markdown",
   "id": "db84d0ae-6b71-4dfd-8865-961de85c948c",
   "metadata": {},
   "source": [
    "Аналогичный результат получается, если использовать оператор &=:"
   ]
  },
  {
   "cell_type": "code",
   "execution_count": null,
   "id": "32a60816-256e-4ed9-9e41-243e28cfbeab",
   "metadata": {},
   "outputs": [],
   "source": [
    "myset1 = {1, 2, 3, 4, 5}\n",
    "myset2 = {3, 4, 6, 7, 8}\n",
    "\n",
    "myset1 &= myset2\n",
    "print(myset1)"
   ]
  },
  {
   "cell_type": "markdown",
   "id": "0a9c628c-7c37-47c5-a4e4-4a096558fadf",
   "metadata": {},
   "source": [
    "#### Метод difference_update()\n",
    "\n",
    "Метод difference_update() изменяет исходное множество по разности."
   ]
  },
  {
   "cell_type": "code",
   "execution_count": null,
   "id": "ddd0261b-610f-496f-8fc4-87d5fcc782ea",
   "metadata": {},
   "outputs": [],
   "source": [
    "myset1 = {1, 2, 3, 4, 5}\n",
    "myset2 = {3, 4, 6, 7, 8}\n",
    "\n",
    "myset1.difference_update(myset2)  # изменяем множество myset1\n",
    "print(myset1)"
   ]
  },
  {
   "cell_type": "code",
   "execution_count": null,
   "id": "62602d2c-5a9f-459a-a8d2-c1abccf25ca8",
   "metadata": {},
   "outputs": [],
   "source": [
    "myset1 = {1, 2, 3, 4, 5}\n",
    "myset2 = {3, 4, 6, 7, 8}\n",
    "\n",
    "myset1 -= myset2\n",
    "print(myset1)"
   ]
  },
  {
   "cell_type": "markdown",
   "id": "d26fc167-262f-4b80-8364-fbf873bfc8ea",
   "metadata": {},
   "source": [
    "#### Метод symmetric_difference_update()\n",
    "\n",
    "Метод symmetric_difference_update() изменяет исходное множество по симметрической разности."
   ]
  },
  {
   "cell_type": "code",
   "execution_count": null,
   "id": "8f04766f-3346-4fb8-90c4-2110a26a7b71",
   "metadata": {},
   "outputs": [],
   "source": [
    "myset1 = {1, 2, 3, 4, 5}\n",
    "myset2 = {3, 4, 6, 7, 8}\n",
    "\n",
    "myset1.symmetric_difference_update(myset2)  # изменяем множество myset1\n",
    "print(myset1)"
   ]
  },
  {
   "cell_type": "markdown",
   "id": "ae507983-cbb6-4fc1-bdac-1957097a8a12",
   "metadata": {},
   "source": [
    "Аналогичный результат получается, если использовать оператор ^=:"
   ]
  },
  {
   "cell_type": "code",
   "execution_count": null,
   "id": "5ddcf2bb-36ed-4e52-9f80-0cf935ec3848",
   "metadata": {},
   "outputs": [],
   "source": [
    "myset1 = {1, 2, 3, 4, 5}\n",
    "myset2 = {3, 4, 6, 7, 8}\n",
    "\n",
    "myset1 ^= myset2\n",
    "print(myset1)"
   ]
  },
  {
   "cell_type": "markdown",
   "id": "6fc886b8-1564-4249-8261-f0da2278c89a",
   "metadata": {},
   "source": [
    "## Примечания\n",
    "\n",
    "**Примечание 1**. Все основные операции над множествами выполняются двумя способами: при помощи метода или соответствующего ему оператора. Различие заключается в том, что метод может принимать в качестве аргумента не только множество (тип данных set), но и любой итерируемый объект (список, строку, кортеж..)."
   ]
  },
  {
   "cell_type": "code",
   "execution_count": null,
   "id": "2221a429-2a3c-4822-8280-29fb18599ae3",
   "metadata": {},
   "outputs": [],
   "source": [
    "mylist = [2021, 2020, 2019, 2018, 2017, 2016]\n",
    "mytuple = (2021, 2020, 2016)\n",
    "mystr = 'abcd'\n",
    "\n",
    "myset = {2009, 2010, 2016}\n",
    "\n",
    "print(myset.union(mystr))                      # объединяем со строкой\n",
    "print(myset.intersection(mylist))              # пересекаем со списком\n",
    "print(myset.difference(mytuple))               # находим разность с кортежем"
   ]
  },
  {
   "cell_type": "markdown",
   "id": "5bf01037-46ce-4711-a5ba-cf9d75addd54",
   "metadata": {},
   "source": [
    "Приведенный ниже код:"
   ]
  },
  {
   "cell_type": "code",
   "execution_count": null,
   "id": "d7b65825-2fd3-4b65-a7b3-cc3a8d40fbab",
   "metadata": {},
   "outputs": [],
   "source": [
    "mylist = [2021, 2020, 2019, 2018, 2017, 2016]\n",
    "mytuple = (2021, 2020, 2016)\n",
    "mystr = 'abcd'\n",
    "\n",
    "myset = {2009, 2010, 2016}\n",
    "\n",
    "print(myset | mystr)\n",
    "print(myset & mylist)\n",
    "print(myset - mytuple)"
   ]
  },
  {
   "cell_type": "markdown",
   "id": "b97ea0b4-de79-4ea5-bcdc-0f8f52b5b10d",
   "metadata": {},
   "source": [
    "приводит к возникновению ошибок:"
   ]
  },
  {
   "cell_type": "markdown",
   "id": "4c1da5fa-de85-4dd9-8281-04409e328d54",
   "metadata": {},
   "source": [
    "**Примечание 2**. Некоторые методы `(union(), intersection(), difference())` и операторы `(|, &, -, ^)` позволяют совершать операции над несколькими множествами сразу."
   ]
  },
  {
   "cell_type": "code",
   "execution_count": null,
   "id": "1b40458f-e6d3-4349-81cc-5fe0ae6f51a6",
   "metadata": {},
   "outputs": [],
   "source": [
    "myset1 = {1, 2, 3, 4, 5, 6}\n",
    "myset2 = {2, 3, 4, 5}\n",
    "myset3 = {5, 6, 7, 8}\n",
    "\n",
    "union1 = myset1.union(myset2, myset3)\n",
    "union2 = myset1 | myset2 | myset3\n",
    "\n",
    "difference1 = myset1.difference(myset2, myset3)\n",
    "difference2 = myset1 - myset2 - myset3           # порядок выполнения слева-направо\n",
    "\n",
    "print(union1 == union2)\n",
    "print(difference1 == difference2)"
   ]
  },
  {
   "cell_type": "markdown",
   "id": "9d43097c-1e2a-4f90-bea5-9451ecd1e523",
   "metadata": {},
   "source": [
    "Примечание 3. Оператор ^ симметрической разности позволяет использовать несколько множеств, а метод symmetric_difference() – нет."
   ]
  },
  {
   "cell_type": "code",
   "execution_count": null,
   "id": "0841bb76-4151-4ef9-83c5-3a66d6524c1d",
   "metadata": {},
   "outputs": [],
   "source": [
    "myset1 = {1, 2, 3, 4, 5, 6}\n",
    "myset2 = {2, 3, 4, 7}\n",
    "myset3 = {6, 20, 30}\n",
    "\n",
    "symdifference = myset1 ^ myset2 ^ myset3  # порядок выполнения слева-направо\n",
    "\n",
    "print(symdifference)"
   ]
  },
  {
   "cell_type": "markdown",
   "id": "818634a9-2929-4a71-aa55-2d1d265927d5",
   "metadata": {},
   "source": [
    "А следующий код приводит к ошибке:"
   ]
  },
  {
   "cell_type": "code",
   "execution_count": null,
   "id": "2390d6ee-8e6a-4d28-ad7b-aceeb1db46ef",
   "metadata": {},
   "outputs": [],
   "source": [
    "myset1 = {1, 2, 3, 4, 5, 6}\n",
    "myset2 = {2, 3, 4, 7}\n",
    "myset3 = {6, 20, 30}\n",
    "\n",
    "symdifference = myset1.symmetric_difference(myset2, myset3)\n",
    "\n",
    "print(symdifference)"
   ]
  },
  {
   "cell_type": "markdown",
   "id": "3fb9694c-c9bb-4a61-b8c2-a981998fe027",
   "metadata": {},
   "source": [
    "**Примечание 4**. Таблица соответствия методов и операторов над множествами.\n",
    "\n",
    "A | B  \n",
    "A.union(B)\n",
    "\n",
    "\tВозвращает множество, являющееся объединением множеств A и B\n",
    "\n",
    "A |= B  \n",
    "A.update(B)\n",
    "\n",
    "\tДобавляет в множество A все элементы из множества B\n",
    "\n",
    "A & B  \n",
    "A.intersection(B)\n",
    "\n",
    "\tВозвращает множество, являющееся пересечением множеств A и B\n",
    "\n",
    "A &= B  \n",
    "A.intersection_update(B)\n",
    "\n",
    "\tОставляет в множестве A только те элементы, которые есть в множестве B\n",
    "\n",
    "A - B  \n",
    "A.difference(B)\n",
    "\n",
    "\tВозвращает разность множеств A и B\n",
    "\n",
    "A -= B  \n",
    "A.difference_update(B)\n",
    "\n",
    "\tУдаляет из множества A все элементы, входящие в B\n",
    "\n",
    "A ^ B  \n",
    "A.symmetric_difference(B)\n",
    "\n",
    "\tВозвращает симметрическую разность множеств A и B\n",
    "\n",
    "A ^= B  \n",
    "A.symmetric_difference_update(B)\n",
    "\n",
    "\tЗаписывает в A симметрическую разность множеств A и B"
   ]
  },
  {
   "cell_type": "markdown",
   "id": "ff803e8f-30a3-4f71-bbbc-5727593ac6f9",
   "metadata": {},
   "source": [
    "**Примечание 5**. Приоритет операторов в порядке убывания (верхние операторы имеют более высокий приоритет, чем нижние) имеет вид:\n",
    "|Оператор |\tОписание|\n",
    "|-|-|\n",
    "|`-`| \tразность|\n",
    "|`&`|\tпересечение|\n",
    "|`^`| \tсимметрическая разность|\n",
    "|&#124;| \tобъединение|"
   ]
  },
  {
   "cell_type": "markdown",
   "id": "1e5954c8-12a0-4701-800e-12990e0860ae",
   "metadata": {},
   "source": [
    "## Подмножества и надмножества\n",
    "\n",
    "Напомним, что множество set1 является подмножеством множества set2, если все элементы первого входят во второе. При этом множество set2 – надмножество множества set1.\n",
    "\n",
    "    >>Любое множество – подмножество самого себя, про такое подмножество говорят \"нестрогое подмножество\"."
   ]
  },
  {
   "cell_type": "markdown",
   "id": "8ad160e5-6e0f-480e-87de-72cd233cdb7c",
   "metadata": {},
   "source": [
    "### Метод issubset()\n",
    "\n",
    "Для определения, является ли одно из множеств подмножеством другого, используется метод issubset(). Данный метод возвращает значение True, если одно множество является подмножеством другого, и False, если не является."
   ]
  },
  {
   "cell_type": "code",
   "execution_count": null,
   "id": "5ca9095d-9f89-40f8-8de2-9e557f9f8183",
   "metadata": {},
   "outputs": [],
   "source": [
    "set1 = {2, 3}\n",
    "set2 = {1, 2, 3, 4, 5, 6}\n",
    "\n",
    "print(set1.issubset(set2))"
   ]
  },
  {
   "cell_type": "markdown",
   "id": "65bac648-29ab-4127-b826-0be74ef74ae2",
   "metadata": {},
   "source": [
    "В этом примере set2 содержит все элементы set1. Это означает, что set1 – подмножество set2. Это также означает, что set2 – надмножество set1.\n",
    "\n",
    "Для определения, является ли одно из множеств подмножеством другого, также применяются операторы <= (нестрогое подмножество) и < (строгое подмножество)."
   ]
  },
  {
   "cell_type": "code",
   "execution_count": null,
   "id": "203368c1-0050-44e6-a17a-24c6260f65c1",
   "metadata": {},
   "outputs": [],
   "source": [
    "set1 = {2, 3}\n",
    "set2 = {1, 2, 3, 4, 5, 6}\n",
    "\n",
    "print(set1 <= set2)"
   ]
  },
  {
   "cell_type": "markdown",
   "id": "2b8dd619-e5b4-4c46-8a88-605fb00d03be",
   "metadata": {},
   "source": [
    "### Метод issuperset()\n",
    "\n",
    "Для определения, является ли одно из множеств надмножеством другого, используется метод issuperset(). Данный метод возвращает значение True, если одно множество является надмножеством другого, в противном случае он возвращает False."
   ]
  },
  {
   "cell_type": "code",
   "execution_count": null,
   "id": "38f141c2-96f3-4fd2-bd92-e088a36d66c4",
   "metadata": {},
   "outputs": [],
   "source": [
    "set1 = {'a', 'b', 'c', 'd', 'e'}\n",
    "set2 = {'c', 'e'}\n",
    "\n",
    "print(set1.issuperset(set2))"
   ]
  },
  {
   "cell_type": "markdown",
   "id": "e1ab91f1-bd92-4d02-87fc-5e455e34fe2d",
   "metadata": {},
   "source": [
    "В этом примере set1 содержит все элементы set2. Это означает, что set1 – надмно­жество set2. Это также означает, что set2 – подмножество set1.\n",
    "\n",
    "Для определения, является ли одно из множеств надмножеством другого, также применяются операторы >= (нестрогое надмножество) и > (строгое надмножество)."
   ]
  },
  {
   "cell_type": "markdown",
   "id": "f6006f1f-dbfa-4e6a-9ee2-e22a2f9a8b77",
   "metadata": {},
   "source": [
    "set1 = {'a', 'b', 'c', 'd', 'e'}\n",
    "set2 = {'c', 'e'}\n",
    "\n",
    "print(set1 >= set2)"
   ]
  },
  {
   "cell_type": "markdown",
   "id": "d061596d-7d59-415e-9408-540361484445",
   "metadata": {},
   "source": [
    "### Метод isdisjoint()\n",
    "\n",
    "Для определения отсутствия общих элементов в множествах используется метод isdisjoint(). Данный метод возвращает значение True, если множества не имеют общих элементов, и  False, когда множества имеют общие элементы."
   ]
  },
  {
   "cell_type": "code",
   "execution_count": null,
   "id": "f5221b06-5d77-434d-a63e-76c58f5b1f32",
   "metadata": {},
   "outputs": [],
   "source": [
    "set1 = {1, 2, 3, 4, 5}\n",
    "set2 = {5, 6, 7}\n",
    "set3 = {7, 8, 9}\n",
    "\n",
    "print(set1.isdisjoint(set2))\n",
    "print(set1.isdisjoint(set3))\n",
    "print(set2.isdisjoint(set3))"
   ]
  },
  {
   "cell_type": "markdown",
   "id": "b656f995-101d-4927-82cd-d1e1c5dcd891",
   "metadata": {},
   "source": [
    "## Примечания\n",
    "\n",
    "### Примечание 1.\n",
    "Методы issuperset(), issubset(), isdisjoint() могут принимать в качестве аргумента не только множество (тип данных set), но и любой итерируемый объект (список, строку, кортеж...). Сами же эти методы могут применяться только ко множеству (тип данных set) или замороженному множеству (тип данных frozenset)."
   ]
  },
  {
   "cell_type": "markdown",
   "id": "63bd6ddd-5f83-4740-941d-85ec12a62825",
   "metadata": {},
   "source": [
    "### Примечание 2.\n",
    "Операторы `>, <, >=, <=` требуют наличия в качестве операндов множества."
   ]
  },
  {
   "cell_type": "markdown",
   "id": "b53bf11b-c6ef-470e-81fa-c1db6a2e5bba",
   "metadata": {},
   "source": [
    "### Примечание 3.\n",
    "Таблица соответствия методов и операторов над множествами.\n",
    "```python\n",
    "set1 <= set2\n",
    "set1.issubset(set2)\n",
    "```\n",
    "\tВозвращает True, если set1 является подмножеством set2\n",
    "```python\n",
    "set1 >= set2\n",
    "set1.issuperset(set2)\n",
    "```\n",
    "\tВозвращает True, если set1 является надмножеством set2\n",
    "```python\n",
    "set1 < set2\n",
    "```\n",
    "\tЭквивалентно set1 <= set2 and set1 != set2 (строгое подмножество)\n",
    "```python\n",
    "set1 > set2\n",
    "```\n",
    "\tЭквивалентно set1 >= set2 and set1 != set2 (строгое надмножество)"
   ]
  }
 ],
 "metadata": {
  "kernelspec": {
   "display_name": "Python 3 (ipykernel)",
   "language": "python",
   "name": "python3"
  },
  "language_info": {
   "codemirror_mode": {
    "name": "ipython",
    "version": 3
   },
   "file_extension": ".py",
   "mimetype": "text/x-python",
   "name": "python",
   "nbconvert_exporter": "python",
   "pygments_lexer": "ipython3",
   "version": "3.12.3"
  }
 },
 "nbformat": 4,
 "nbformat_minor": 5
}
