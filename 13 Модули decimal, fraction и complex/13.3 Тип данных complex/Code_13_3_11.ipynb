{
 "cells": [
  {
   "cell_type": "markdown",
   "id": "6ef01a29-d08c-400b-9c43-e343ca85ec63",
   "metadata": {},
   "source": [
    "# Комплексные числа в Python\n",
    "\n",
    "В языке Python есть возможность работать с комплексными числами. Общая форма представления комплексного числа следующая: real + imag j, где\n",
    "\n",
    "    real – вещественная часть комплексного числа;\n",
    "    imag – мнимая часть комплексного числа, которая завершается символом j или J.\n",
    "\n",
    "  Обратите внимание: в Python используется буква j, а не i."
   ]
  },
  {
   "cell_type": "code",
   "execution_count": 1,
   "id": "508db31f-0297-4e74-8230-d5073c23f644",
   "metadata": {},
   "outputs": [
    {
     "name": "stdout",
     "output_type": "stream",
     "text": [
      "(5+7j)\n",
      "1j\n",
      "(-3+5j)\n",
      "(1.5+3.2j)\n",
      "<class 'complex'>\n"
     ]
    }
   ],
   "source": [
    "z1 = 5 + 7j\n",
    "z2 = 1j\n",
    "z3 = -3 + 5J\n",
    "z4 = 1.5 + 3.2j\n",
    "\n",
    "print(z1, z2, z3, z4, sep='\\n')\n",
    "print(type(z1))"
   ]
  },
  {
   "cell_type": "markdown",
   "id": "61d880dc-fff8-4896-b434-0affe9ce5e22",
   "metadata": {},
   "source": [
    "## Создание комплексных чисел\n",
    "\n",
    "Комплексные числа можно создать с помощью литерала, как выше, а можно с помощью функции complex(), которая принимает два аргумента: вещественную и мнимую часть числа, либо строковое представление числа."
   ]
  },
  {
   "cell_type": "code",
   "execution_count": 2,
   "id": "08d52e1f-9265-4083-b1b6-c12b64c8cd0c",
   "metadata": {},
   "outputs": [
    {
     "name": "stdout",
     "output_type": "stream",
     "text": [
      "(-3+2j)\n",
      "(6-8j)\n",
      "2.5j\n",
      "(5+0j)\n",
      "(3+4j)\n"
     ]
    }
   ],
   "source": [
    "z1 = -3 + 2j              # создание на основе литерала\n",
    "z2 = complex(6, -8)       # z2 = 6 - 8j\n",
    "z3 = complex(0, 2.5)      # z3 = 2.5j\n",
    "z4 = complex(5, 0)        # z4 = 5 + 0j\n",
    "z5 = complex('3+4j')      # создание на основе строки\n",
    "\n",
    "print(z1, z2, z3, z4, z5, sep='\\n')"
   ]
  },
  {
   "cell_type": "markdown",
   "id": "08b6fe00-371b-4e53-9229-d0a82b0f7c1c",
   "metadata": {},
   "source": [
    "Арифметические операции над комплексными числами\n",
    "\n",
    "Тип данных complex отлично интегрирован в язык Python. С complex числами работают все привычные операции: сложение, вычитание, умножение, деление, возведение в степень."
   ]
  },
  {
   "cell_type": "code",
   "execution_count": 3,
   "id": "7ef51f55-d183-49bd-aefc-3ced0973cfba",
   "metadata": {},
   "outputs": [
    {
     "name": "stdout",
     "output_type": "stream",
     "text": [
      "z1 + z2 = (-2+5j)\n",
      "z1 - z2 = (4+1j)\n",
      "z1 * z2 = (-9-7j)\n",
      "z1 / z2 = (0.23076923076923078-0.8461538461538461j)\n",
      "z1^20 = (9884965888-1512431616j)\n"
     ]
    }
   ],
   "source": [
    "z1 = 1 + 3j\n",
    "z2 = -3 + 2j\n",
    "\n",
    "print('z1 + z2 =', z1 + z2)\n",
    "print('z1 - z2 =', z1 - z2)\n",
    "print('z1 * z2 =', z1 * z2)\n",
    "print('z1 / z2 =', z1 / z2)\n",
    "print('z1^20 =', z1**20)"
   ]
  },
  {
   "cell_type": "markdown",
   "id": "ecd2a2a3-ce7b-4750-8efb-8818da065a5c",
   "metadata": {},
   "source": [
    "Мы также можем совершать арифметические операции над complex и целыми числами (миксовать complex, int, float)."
   ]
  },
  {
   "cell_type": "code",
   "execution_count": 4,
   "id": "b9426e8e-3304-4285-b7fe-10a948b86b4d",
   "metadata": {},
   "outputs": [
    {
     "name": "stdout",
     "output_type": "stream",
     "text": [
      "(6+3j)\n",
      "(-1+3j)\n",
      "(3+9j)\n",
      "(0.5+1.5j)\n"
     ]
    }
   ],
   "source": [
    "z = 1 + 3j\n",
    "\n",
    "print(z + 5)\n",
    "print(z - 2)\n",
    "print(3*z)\n",
    "print(z/2)"
   ]
  },
  {
   "cell_type": "markdown",
   "id": "c654e981-c8d8-4f8f-873a-54f5052190de",
   "metadata": {},
   "source": [
    "## Методы и свойства комплексных чисел\n",
    "\n",
    "Для получения действительной и мнимой частей комплексного числа используются свойства real и imag."
   ]
  },
  {
   "cell_type": "code",
   "execution_count": 5,
   "id": "8b7c1a93-d978-4eee-af81-7ea52353723b",
   "metadata": {},
   "outputs": [
    {
     "name": "stdout",
     "output_type": "stream",
     "text": [
      "Действительная часть = 3.0\n",
      "Мнимая часть = 4.0\n"
     ]
    }
   ],
   "source": [
    "z = 3+4j\n",
    "\n",
    "print('Действительная часть =', z.real)\n",
    "print('Мнимая часть =', z.imag)"
   ]
  },
  {
   "cell_type": "markdown",
   "id": "0438f535-1a23-40db-89d2-60de8083bdc3",
   "metadata": {},
   "source": [
    "Python представляет комплексное число как два вещественных числа, поэтому при выводе у нас появились выражения 3.0 и 4.0 вместо 3 и 4.\n",
    "\n",
    "Для нахождения сопряженного комплексного числа можно использовать метод conjugate()."
   ]
  },
  {
   "cell_type": "code",
   "execution_count": 8,
   "id": "59c020f5-f7e7-443f-a2e6-220786c4f0bd",
   "metadata": {},
   "outputs": [
    {
     "name": "stdout",
     "output_type": "stream",
     "text": [
      "Сопряженное число = (3-4j)\n"
     ]
    }
   ],
   "source": [
    "z = 3+4j\n",
    "\n",
    "print('Сопряженное число =', z.conjugate())"
   ]
  },
  {
   "cell_type": "markdown",
   "id": "0d22c16b-5aba-4cfe-a38c-db684180dc27",
   "metadata": {},
   "source": [
    "## Примечания\n",
    "\n",
    "Примечание 1. Почему используется буква j вместо буквы i, можно [почитать тут](https://stackoverflow.com/questions/24812444/why-are-complex-numbers-in-python-denoted-with-j-instead-of-i).\n",
    "\n",
    "Примечание 2. Для нахождения модуля комплексного числа используется встроенная функция `abs()`."
   ]
  },
  {
   "cell_type": "code",
   "execution_count": 6,
   "id": "4d01eee7-4b5c-439a-8457-42eae63cb947",
   "metadata": {},
   "outputs": [
    {
     "name": "stdout",
     "output_type": "stream",
     "text": [
      "Модуль числа = 5.0\n"
     ]
    }
   ],
   "source": [
    "z = 3+4j\n",
    "\n",
    "print('Модуль числа =', abs(z))"
   ]
  },
  {
   "cell_type": "markdown",
   "id": "cae5b6e8-c5f9-4ec2-82de-935c18952878",
   "metadata": {},
   "source": [
    "Примечание 3. Встроенный модуль `math` работает с вещественными числами. Для работы с комплексными числами есть модуль `cmath`. Модуль `cmath` включает дополнительные функции для использования комплексных чисел."
   ]
  },
  {
   "cell_type": "code",
   "execution_count": 7,
   "id": "d28ad354-6903-4651-a8bb-023ff846a958",
   "metadata": {},
   "outputs": [
    {
     "name": "stdout",
     "output_type": "stream",
     "text": [
      "0.982793723247329\n",
      "(3.605551275463989, 0.982793723247329)\n"
     ]
    }
   ],
   "source": [
    "import cmath\n",
    "\n",
    "z = 2+3j\n",
    "print(cmath.phase(z)) # полярный угол\n",
    "print(cmath.polar(z)) # полярные координаты"
   ]
  },
  {
   "cell_type": "markdown",
   "id": "5f74db74-96f0-472a-a692-21942289d909",
   "metadata": {},
   "source": [
    "Модуль cmath содержит следующие категории функций:\n",
    "\n",
    "    Экспоненциальные и логарифмические функции\n",
    "\n",
    "    Квадратные корни\n",
    "\n",
    "    Тригонометрические функции и их обратные\n",
    "\n",
    "    Гиперболические функции и их обратные\n",
    "\n",
    "Примечание 4. Документация по модулю cmath тут.\n",
    "\n",
    "Примечание 5. Больше примеров работы с комплексными числами тут.\n",
    "\n",
    "Примечание 6. Для работы с комплексными числами (тип complex) не нужно подключать какой-либо модуль в отличие от типов Decimal и Fraction."
   ]
  }
 ],
 "metadata": {
  "kernelspec": {
   "display_name": "Python 3 (ipykernel)",
   "language": "python",
   "name": "python3"
  },
  "language_info": {
   "codemirror_mode": {
    "name": "ipython",
    "version": 3
   },
   "file_extension": ".py",
   "mimetype": "text/x-python",
   "name": "python",
   "nbconvert_exporter": "python",
   "pygments_lexer": "ipython3",
   "version": "3.12.4"
  }
 },
 "nbformat": 4,
 "nbformat_minor": 5
}
